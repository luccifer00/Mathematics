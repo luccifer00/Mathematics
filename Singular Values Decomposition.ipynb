{
 "cells": [
  {
   "cell_type": "markdown",
   "metadata": {},
   "source": [
    "# Singular Value Decomposition (SVD)\n",
    "\n",
    "This technique factorizes a matrix  $A$  into three matrices: $A = U \\Sigma V^T $, where:\n",
    "\n",
    "- $U $ is an orthogonal matrix whose columns are the left singular vectors.\n",
    "- $ \\Sigma $ is a diagonal matrix whose elements are the singular values.\n",
    "- $V^T$ (the transpose of $V$ ) is an orthogonal matrix whose columns are the right singular vectors.\n",
    "\n",
    "\n",
    "This technique can be applied ot any $m \\times n$\n"
   ]
  },
  {
   "cell_type": "markdown",
   "metadata": {},
   "source": [
    "### Let's generate any random matrix first"
   ]
  },
  {
   "cell_type": "code",
   "execution_count": 31,
   "metadata": {},
   "outputs": [
    {
     "name": "stdout",
     "output_type": "stream",
     "text": [
      "[[-72.48 -51.65 -13.96 -40.09  82.51 -68.92]\n",
      " [-14.5   25.71 -10.98 -23.1  -15.71  28.96]\n",
      " [ 99.75   1.98 -32.94 -46.89 -39.18 -17.96]\n",
      " [ 37.83 -39.62  73.23  37.87 -15.79 -97.91]\n",
      " [ 36.53  -2.15 -36.46  -9.72 -97.63  -1.49]]\n"
     ]
    }
   ],
   "source": [
    "import numpy as np\n",
    "\n",
    "# Create any matrix m x n\n",
    "m= 5 # Number of rows\n",
    "n= 6 # Number of columns\n",
    "\n",
    "A = np.random.uniform(-100,100, size=(m, n)).round(2)\n",
    "\n",
    "print(A)\n"
   ]
  },
  {
   "cell_type": "code",
   "execution_count": 32,
   "metadata": {},
   "outputs": [],
   "source": [
    "def svd_manual(matrix):\n",
    "    # Step 1: Calculate A^T * A\n",
    "    A_AT = np.dot(matrix.T, matrix)\n",
    "\n",
    "    # Step 2: Eigen decomposition of A^T * A\n",
    "    eigenvalues, eigenvectors = np.linalg.eig(A_AT)\n",
    "\n",
    "    # Step 3: Sort eigenvalues and eigenvectors in descending order\n",
    "    sorted_indices = np.argsort(eigenvalues)[::-1]\n",
    "    eigenvalues_sorted = eigenvalues[sorted_indices]\n",
    "    eigenvectors_sorted = eigenvectors[:, sorted_indices]\n",
    "\n",
    "    # Step 4: Calculate singular values sigma\n",
    "    sigma = np.sqrt(eigenvalues_sorted)\n",
    "    S = np.diag(sigma)\n",
    "\n",
    "    # Step 5: Calculate matrix U\n",
    "    U = eigenvectors_sorted\n",
    "\n",
    "    # Step 6: Calculate matrix V\n",
    "    #V = np.dot(matrix.T, U) / sigma\n",
    "    # Step 6: Calculate matrix V\n",
    "    V = np.dot(np.linalg.inv(S), np.dot(U.T, matrix.T))\n",
    "    # Reconstruct the original matrix A\n",
    "    A_reconstructed = U @ S @ V\n",
    "\n",
    "    # Print results\n",
    "    print('ORIGINAL GENERATED MATRIX \\n', A)\n",
    "    print('This is the U MATRIX \\n', U)\n",
    "    print('This is S MATRIX\\n', S)\n",
    "    print('This is V MATRIX\\n', V)\n",
    "    print('\\n\\nFINALLY OUR RECONSTRUCTED A MATRIX \\n', A_reconstructed.T)\n",
    "\n",
    "    return U, S, V.T"
   ]
  },
  {
   "cell_type": "code",
   "execution_count": 33,
   "metadata": {},
   "outputs": [
    {
     "name": "stdout",
     "output_type": "stream",
     "text": [
      "ORIGINAL GENERATED MATRIX \n",
      " [[-72.48 -51.65 -13.96 -40.09  82.51 -68.92]\n",
      " [-14.5   25.71 -10.98 -23.1  -15.71  28.96]\n",
      " [ 99.75   1.98 -32.94 -46.89 -39.18 -17.96]\n",
      " [ 37.83 -39.62  73.23  37.87 -15.79 -97.91]\n",
      " [ 36.53  -2.15 -36.46  -9.72 -97.63  -1.49]]\n",
      "This is the U MATRIX \n",
      " [[-0.61673968 -0.39577957  0.13592612  0.63311504  0.20477788  0.04178706]\n",
      " [-0.22113428  0.3277385  -0.2197761   0.24255215 -0.49328106 -0.7023018 ]\n",
      " [ 0.1737364  -0.38348856 -0.58229955  0.20181463 -0.5359017   0.39466396]\n",
      " [ 0.03088048 -0.16251605 -0.6980312  -0.09654412  0.60748547 -0.32715136]\n",
      " [ 0.68730739  0.13293598  0.11427093  0.67272786  0.18978232 -0.09109679]\n",
      " [-0.25923428  0.73810506 -0.30634032  0.19421925  0.14997752  0.48367317]]\n",
      "This is S MATRIX\n",
      " [[1.84657173e+02 0.00000000e+00 0.00000000e+00 0.00000000e+00\n",
      "  0.00000000e+00 0.00000000e+00]\n",
      " [0.00000000e+00 1.48958215e+02 0.00000000e+00 0.00000000e+00\n",
      "  0.00000000e+00 0.00000000e+00]\n",
      " [0.00000000e+00 0.00000000e+00 1.01368097e+02 0.00000000e+00\n",
      "  0.00000000e+00 0.00000000e+00]\n",
      " [0.00000000e+00 0.00000000e+00 0.00000000e+00 6.15850491e+01\n",
      "  0.00000000e+00 0.00000000e+00]\n",
      " [0.00000000e+00 0.00000000e+00 0.00000000e+00 0.00000000e+00\n",
      "  2.37121637e+01 0.00000000e+00]\n",
      " [0.00000000e+00 0.00000000e+00 0.00000000e+00 0.00000000e+00\n",
      "  0.00000000e+00 8.36848403e-07]]\n",
      "This is V MATRIX\n",
      " [[ 6.87954202e-01 -9.56833972e-02 -4.94978591e-01  7.50108050e-02\n",
      "  -5.16655859e-01]\n",
      " [-1.09255298e-01  2.78043639e-01 -2.48676432e-01 -9.16778014e-01\n",
      "  -9.18320141e-02]\n",
      " [ 6.72341240e-01  4.17289613e-02  6.51682757e-01 -2.66722777e-01\n",
      "   2.24464907e-01]\n",
      " [-2.47490099e-01 -1.27853644e-01  5.14199520e-01 -6.77890951e-02\n",
      "  -8.08335072e-01]\n",
      " [-3.85772370e-02 -9.46281439e-01 -6.37547162e-02 -2.79562247e-01\n",
      "   1.44372854e-01]\n",
      " [ 1.79778306e-08  6.72615359e-08  1.37317663e-08  1.76252888e-08\n",
      "  -3.37845294e-08]]\n",
      "\n",
      "\n",
      "FINALLY OUR RECONSTRUCTED A MATRIX \n",
      " [[-72.48 -51.65 -13.96 -40.09  82.51 -68.92]\n",
      " [-14.5   25.71 -10.98 -23.1  -15.71  28.96]\n",
      " [ 99.75   1.98 -32.94 -46.89 -39.18 -17.96]\n",
      " [ 37.83 -39.62  73.23  37.87 -15.79 -97.91]\n",
      " [ 36.53  -2.15 -36.46  -9.72 -97.63  -1.49]]\n"
     ]
    }
   ],
   "source": [
    "U,S,Vt = svd_manual(A)"
   ]
  },
  {
   "cell_type": "code",
   "execution_count": null,
   "metadata": {},
   "outputs": [],
   "source": []
  }
 ],
 "metadata": {
  "kernelspec": {
   "display_name": "base",
   "language": "python",
   "name": "python3"
  },
  "language_info": {
   "codemirror_mode": {
    "name": "ipython",
    "version": 3
   },
   "file_extension": ".py",
   "mimetype": "text/x-python",
   "name": "python",
   "nbconvert_exporter": "python",
   "pygments_lexer": "ipython3",
   "version": "3.11.7"
  }
 },
 "nbformat": 4,
 "nbformat_minor": 2
}
